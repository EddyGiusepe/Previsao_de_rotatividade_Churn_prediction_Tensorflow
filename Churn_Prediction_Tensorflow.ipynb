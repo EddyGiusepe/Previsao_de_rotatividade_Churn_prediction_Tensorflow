{
  "nbformat": 4,
  "nbformat_minor": 0,
  "metadata": {
    "colab": {
      "name": "Churn_Prediction_Tensorflow.ipynb",
      "provenance": [],
      "mount_file_id": "12EV2k0Z72JzEIkqM_Dhu-t5qu4hphi50",
      "authorship_tag": "ABX9TyMwc3rTFPzuFoMYAy0g6hNo",
      "include_colab_link": true
    },
    "kernelspec": {
      "name": "python3",
      "display_name": "Python 3"
    },
    "accelerator": "GPU"
  },
  "cells": [
    {
      "cell_type": "markdown",
      "metadata": {
        "id": "view-in-github",
        "colab_type": "text"
      },
      "source": [
        "<a href=\"https://colab.research.google.com/github/EddyGiusepe/Previsao_de_rotatividade_Churn_prediction_Tensorflow/blob/main/Churn_Prediction_Tensorflow.ipynb\" target=\"_parent\"><img src=\"https://colab.research.google.com/assets/colab-badge.svg\" alt=\"Open In Colab\"/></a>"
      ]
    },
    {
      "cell_type": "markdown",
      "metadata": {
        "id": "_-bdfc6CvPXo"
      },
      "source": [
        "# Previsão de rotatividade  (Churn prediction)"
      ]
    },
    {
      "cell_type": "markdown",
      "metadata": {
        "id": "Repe9TMLvchY"
      },
      "source": [
        "Aqui vamos a realizar uma abordagem para prever o desgaste do cliente usando algoritmos de aprendizado de máquina supervisionado em Python. \r\n",
        "\r\n",
        "O atrito com o cliente ( também conhecido como rotatividade de clientes ) é um dos maiores gastos de qualquer organização. Se pudéssemos descobrir por que um cliente sai e quando sai com uma precisão razoável, isso ajudaria imensamente a organização a criar estratégias para suas múltiplas iniciativas de retenção. Vamos usar um conjunto de dados de transações do cliente ``Churn.csv`` para entender as principais etapas envolvidas na previsão do atrito do cliente em Python.\r\n",
        "\r\n",
        "\r\n",
        "Uma boa explicação pode ser encontrada no [YouTube](https://www.youtube.com/watch?v=6_2hzRopPbQ).\r\n",
        "\r\n"
      ]
    },
    {
      "cell_type": "markdown",
      "metadata": {
        "id": "y0gY-fFl1ZQ1"
      },
      "source": [
        "## Importamos nossas bibliotecas e nossos Dados"
      ]
    },
    {
      "cell_type": "code",
      "metadata": {
        "id": "Jw-zGUootqs3"
      },
      "source": [
        "import pandas as pd\r\n",
        "import numpy as np\r\n",
        "\r\n",
        "import matplotlib.pyplot as plt\r\n",
        "%matplotlib inline\r\n",
        "\r\n",
        "\r\n",
        "\r\n",
        "\r\n",
        "from tensorflow.keras.models import Sequential, load_model\r\n",
        "from tensorflow.keras.layers import Dense, Dropout\r\n",
        "\r\n",
        "from sklearn.model_selection import train_test_split\r\n",
        "from sklearn.metrics import accuracy_score\r\n",
        "from sklearn.metrics import confusion_matrix , classification_report"
      ],
      "execution_count": 1,
      "outputs": []
    },
    {
      "cell_type": "code",
      "metadata": {
        "id": "elQdbWz5wKlO"
      },
      "source": [
        "df = pd.read_csv('/content/drive/MyDrive/Apenas_TensorFlow_Eddy/Nicholas_Renotte_YouTube_Tensorflow_Tutorial/Tensorflow-in-10-Minutes/Churn.csv')"
      ],
      "execution_count": 2,
      "outputs": []
    },
    {
      "cell_type": "code",
      "metadata": {
        "colab": {
          "base_uri": "https://localhost:8080/",
          "height": 223
        },
        "id": "lSZAM52JwMgl",
        "outputId": "809a711e-48a6-4d58-8df1-fa070f205aa4"
      },
      "source": [
        "df.head(3)"
      ],
      "execution_count": 3,
      "outputs": [
        {
          "output_type": "execute_result",
          "data": {
            "text/html": [
              "<div>\n",
              "<style scoped>\n",
              "    .dataframe tbody tr th:only-of-type {\n",
              "        vertical-align: middle;\n",
              "    }\n",
              "\n",
              "    .dataframe tbody tr th {\n",
              "        vertical-align: top;\n",
              "    }\n",
              "\n",
              "    .dataframe thead th {\n",
              "        text-align: right;\n",
              "    }\n",
              "</style>\n",
              "<table border=\"1\" class=\"dataframe\">\n",
              "  <thead>\n",
              "    <tr style=\"text-align: right;\">\n",
              "      <th></th>\n",
              "      <th>Customer ID</th>\n",
              "      <th>Gender</th>\n",
              "      <th>Senior Citizen</th>\n",
              "      <th>Partner</th>\n",
              "      <th>Dependents</th>\n",
              "      <th>tenure</th>\n",
              "      <th>Phone Service</th>\n",
              "      <th>Multiple Lines</th>\n",
              "      <th>Internet Service</th>\n",
              "      <th>Online Security</th>\n",
              "      <th>Online Backup</th>\n",
              "      <th>Device Protection</th>\n",
              "      <th>Tech Support</th>\n",
              "      <th>Streaming TV</th>\n",
              "      <th>Streaming Movies</th>\n",
              "      <th>Contract</th>\n",
              "      <th>Paperless Billing</th>\n",
              "      <th>Payment Method</th>\n",
              "      <th>Monthly Charges</th>\n",
              "      <th>Total Charges</th>\n",
              "      <th>Churn</th>\n",
              "    </tr>\n",
              "  </thead>\n",
              "  <tbody>\n",
              "    <tr>\n",
              "      <th>0</th>\n",
              "      <td>7590-VHVEA</td>\n",
              "      <td>Female</td>\n",
              "      <td>0</td>\n",
              "      <td>Yes</td>\n",
              "      <td>No</td>\n",
              "      <td>1</td>\n",
              "      <td>No</td>\n",
              "      <td>No phone service</td>\n",
              "      <td>DSL</td>\n",
              "      <td>No</td>\n",
              "      <td>Yes</td>\n",
              "      <td>No</td>\n",
              "      <td>No</td>\n",
              "      <td>No</td>\n",
              "      <td>No</td>\n",
              "      <td>Month-to-month</td>\n",
              "      <td>Yes</td>\n",
              "      <td>Electronic check</td>\n",
              "      <td>29.85</td>\n",
              "      <td>29.85</td>\n",
              "      <td>No</td>\n",
              "    </tr>\n",
              "    <tr>\n",
              "      <th>1</th>\n",
              "      <td>7590-VHVEG</td>\n",
              "      <td>Female</td>\n",
              "      <td>0</td>\n",
              "      <td>Yes</td>\n",
              "      <td>No</td>\n",
              "      <td>1</td>\n",
              "      <td>No</td>\n",
              "      <td>No phone service</td>\n",
              "      <td>DSL</td>\n",
              "      <td>No</td>\n",
              "      <td>Yes</td>\n",
              "      <td>No</td>\n",
              "      <td>No</td>\n",
              "      <td>No</td>\n",
              "      <td>No</td>\n",
              "      <td>Month-to-month</td>\n",
              "      <td>Yes</td>\n",
              "      <td>Electronic check</td>\n",
              "      <td>29.85</td>\n",
              "      <td>29.85</td>\n",
              "      <td>No</td>\n",
              "    </tr>\n",
              "    <tr>\n",
              "      <th>2</th>\n",
              "      <td>5575-GNVDE</td>\n",
              "      <td>Male</td>\n",
              "      <td>0</td>\n",
              "      <td>No</td>\n",
              "      <td>No</td>\n",
              "      <td>34</td>\n",
              "      <td>Yes</td>\n",
              "      <td>No</td>\n",
              "      <td>DSL</td>\n",
              "      <td>Yes</td>\n",
              "      <td>No</td>\n",
              "      <td>Yes</td>\n",
              "      <td>No</td>\n",
              "      <td>No</td>\n",
              "      <td>No</td>\n",
              "      <td>One year</td>\n",
              "      <td>No</td>\n",
              "      <td>Mailed check</td>\n",
              "      <td>56.95</td>\n",
              "      <td>1889.5</td>\n",
              "      <td>No</td>\n",
              "    </tr>\n",
              "  </tbody>\n",
              "</table>\n",
              "</div>"
            ],
            "text/plain": [
              "  Customer ID  Gender  Senior Citizen  ... Monthly Charges Total Charges  Churn\n",
              "0  7590-VHVEA  Female               0  ...           29.85         29.85     No\n",
              "1  7590-VHVEG  Female               0  ...           29.85         29.85     No\n",
              "2  5575-GNVDE    Male               0  ...           56.95        1889.5     No\n",
              "\n",
              "[3 rows x 21 columns]"
            ]
          },
          "metadata": {
            "tags": []
          },
          "execution_count": 3
        }
      ]
    },
    {
      "cell_type": "code",
      "metadata": {
        "colab": {
          "base_uri": "https://localhost:8080/"
        },
        "id": "GbZlkxIFwbbd",
        "outputId": "78c718f7-9ac0-48cc-a44a-605e9cec5264"
      },
      "source": [
        "df.shape"
      ],
      "execution_count": 4,
      "outputs": [
        {
          "output_type": "execute_result",
          "data": {
            "text/plain": [
              "(7044, 21)"
            ]
          },
          "metadata": {
            "tags": []
          },
          "execution_count": 4
        }
      ]
    },
    {
      "cell_type": "code",
      "metadata": {
        "colab": {
          "base_uri": "https://localhost:8080/"
        },
        "id": "UKhnrSsF16eN",
        "outputId": "54158bd7-65b0-4245-e389-c8e85251242b"
      },
      "source": [
        "# Verificamos se temos valores \"nan\"\r\n",
        "\r\n",
        "df.isna().sum()"
      ],
      "execution_count": 5,
      "outputs": [
        {
          "output_type": "execute_result",
          "data": {
            "text/plain": [
              "Customer ID          0\n",
              "Gender               0\n",
              "Senior Citizen       0\n",
              "Partner              0\n",
              "Dependents           0\n",
              "tenure               0\n",
              "Phone Service        0\n",
              "Multiple Lines       0\n",
              "Internet Service     0\n",
              "Online Security      0\n",
              "Online Backup        0\n",
              "Device Protection    0\n",
              "Tech Support         0\n",
              "Streaming TV         0\n",
              "Streaming Movies     0\n",
              "Contract             0\n",
              "Paperless Billing    0\n",
              "Payment Method       0\n",
              "Monthly Charges      0\n",
              "Total Charges        0\n",
              "Churn                0\n",
              "dtype: int64"
            ]
          },
          "metadata": {
            "tags": []
          },
          "execution_count": 5
        }
      ]
    },
    {
      "cell_type": "code",
      "metadata": {
        "colab": {
          "base_uri": "https://localhost:8080/"
        },
        "id": "cDI7xe5B2IzF",
        "outputId": "3a094fec-5ac8-4ae5-cb78-b433a470a52a"
      },
      "source": [
        "# Nome de nossas colunas\r\n",
        "\r\n",
        "df.columns\r\n"
      ],
      "execution_count": 6,
      "outputs": [
        {
          "output_type": "execute_result",
          "data": {
            "text/plain": [
              "Index(['Customer ID', 'Gender', 'Senior Citizen', 'Partner', 'Dependents',\n",
              "       'tenure', 'Phone Service', 'Multiple Lines', 'Internet Service',\n",
              "       'Online Security', 'Online Backup', 'Device Protection', 'Tech Support',\n",
              "       'Streaming TV', 'Streaming Movies', 'Contract', 'Paperless Billing',\n",
              "       'Payment Method', 'Monthly Charges', 'Total Charges', 'Churn'],\n",
              "      dtype='object')"
            ]
          },
          "metadata": {
            "tags": []
          },
          "execution_count": 6
        }
      ]
    },
    {
      "cell_type": "code",
      "metadata": {
        "colab": {
          "base_uri": "https://localhost:8080/"
        },
        "id": "25P2cvx_2Sth",
        "outputId": "d9e2f5da-b0b2-42d4-e81e-598aec8d1c54"
      },
      "source": [
        "# Vejamos nossa Target\r\n",
        "\r\n",
        "df['Churn'].value_counts()"
      ],
      "execution_count": 7,
      "outputs": [
        {
          "output_type": "execute_result",
          "data": {
            "text/plain": [
              "No     5175\n",
              "Yes    1869\n",
              "Name: Churn, dtype: int64"
            ]
          },
          "metadata": {
            "tags": []
          },
          "execution_count": 7
        }
      ]
    },
    {
      "cell_type": "markdown",
      "metadata": {
        "id": "etkK8ASV4ZF4"
      },
      "source": [
        "## Dividimos nossos Dados em Dados de treino e teste"
      ]
    },
    {
      "cell_type": "code",
      "metadata": {
        "id": "qBX_mLSY2i8Z"
      },
      "source": [
        "x = pd.get_dummies(df.drop(['Churn', 'Customer ID'], axis=1))\r\n",
        "y = df['Churn'].apply(lambda x: 1 if x == 'Yes' else 0)"
      ],
      "execution_count": 8,
      "outputs": []
    },
    {
      "cell_type": "code",
      "metadata": {
        "colab": {
          "base_uri": "https://localhost:8080/"
        },
        "id": "q3bPshgy6SmP",
        "outputId": "c4af33fa-25c6-4fbd-c7d2-2258537d9bc2"
      },
      "source": [
        "y.sample(5)"
      ],
      "execution_count": 9,
      "outputs": [
        {
          "output_type": "execute_result",
          "data": {
            "text/plain": [
              "3768    0\n",
              "856     1\n",
              "6952    0\n",
              "323     0\n",
              "1689    0\n",
              "Name: Churn, dtype: int64"
            ]
          },
          "metadata": {
            "tags": []
          },
          "execution_count": 9
        }
      ]
    },
    {
      "cell_type": "code",
      "metadata": {
        "colab": {
          "base_uri": "https://localhost:8080/"
        },
        "id": "10a-9S2m6pwt",
        "outputId": "b4d6434b-e4c4-4fd9-adf9-908968ce7c12"
      },
      "source": [
        "# Vejamos novamente nosso Target\r\n",
        "\r\n",
        "y.value_counts()"
      ],
      "execution_count": 10,
      "outputs": [
        {
          "output_type": "execute_result",
          "data": {
            "text/plain": [
              "0    5175\n",
              "1    1869\n",
              "Name: Churn, dtype: int64"
            ]
          },
          "metadata": {
            "tags": []
          },
          "execution_count": 10
        }
      ]
    },
    {
      "cell_type": "code",
      "metadata": {
        "id": "Vo8WpcIn8AVk"
      },
      "source": [
        "# Fazendo a divisão de nossos Dados:\r\n",
        "\r\n",
        "x_train, x_test, y_train, y_test = train_test_split(x, y, test_size=0.25)\r\n",
        "\r\n"
      ],
      "execution_count": 11,
      "outputs": []
    },
    {
      "cell_type": "code",
      "metadata": {
        "colab": {
          "base_uri": "https://localhost:8080/"
        },
        "id": "dExkZMva8Q3U",
        "outputId": "5e5cee5d-998d-49e0-8c2d-fb8246fd04de"
      },
      "source": [
        "y_train.head()"
      ],
      "execution_count": 12,
      "outputs": [
        {
          "output_type": "execute_result",
          "data": {
            "text/plain": [
              "6948    0\n",
              "3985    0\n",
              "4427    0\n",
              "169     1\n",
              "4140    0\n",
              "Name: Churn, dtype: int64"
            ]
          },
          "metadata": {
            "tags": []
          },
          "execution_count": 12
        }
      ]
    },
    {
      "cell_type": "markdown",
      "metadata": {
        "id": "YO-PNjP798cT"
      },
      "source": [
        "## Construimos e compilamos nosso modelo (Red Neural)\r\n"
      ]
    },
    {
      "cell_type": "code",
      "metadata": {
        "id": "WBDfCSOI8WkA"
      },
      "source": [
        "# Construindo nossa Red Neural\r\n",
        "model = Sequential()\r\n",
        "\r\n",
        "model.add(Dense(units=64, activation='relu', input_dim=len(x_train.columns)))\r\n",
        "model.add(Dropout(0.70))\r\n",
        "model.add(Dense(units=32, activation='relu'))\r\n",
        "model.add(Dropout(0.70))\r\n",
        "model.add(Dense(units=16, activation='relu'))\r\n",
        "model.add(Dropout(0.70))\r\n",
        "model.add(Dense(units=8, activation='relu'))\r\n",
        "model.add(Dropout(0.70))\r\n",
        "model.add(Dense(units=1, activation='sigmoid'))"
      ],
      "execution_count": 13,
      "outputs": []
    },
    {
      "cell_type": "code",
      "metadata": {
        "id": "HnZQkGBuAiE_"
      },
      "source": [
        "# Compilando nosso modelo\r\n",
        "\r\n",
        "model.compile(loss='binary_crossentropy', optimizer='sgd', metrics='accuracy')"
      ],
      "execution_count": 14,
      "outputs": []
    },
    {
      "cell_type": "markdown",
      "metadata": {
        "id": "t3HoAZgTBcee"
      },
      "source": [
        "## Vamos ajustar, predezir e avaliar nosso modelo"
      ]
    },
    {
      "cell_type": "code",
      "metadata": {
        "id": "9g_9nUIrBpXR"
      },
      "source": [
        "history = model.fit(x_train, y_train, validation_data=(x_test, y_test),\r\n",
        "                    epochs=400, batch_size=70, verbose=0)"
      ],
      "execution_count": 15,
      "outputs": []
    },
    {
      "cell_type": "code",
      "metadata": {
        "colab": {
          "base_uri": "https://localhost:8080/"
        },
        "id": "zvNDaXEECQcr",
        "outputId": "79e325c8-6870-4e84-8e88-3195e1ffc522"
      },
      "source": [
        "model.evaluate(x_test, y_test)"
      ],
      "execution_count": 16,
      "outputs": [
        {
          "output_type": "stream",
          "text": [
            "56/56 [==============================] - 0s 2ms/step - loss: 0.5773 - accuracy: 0.7359\n"
          ],
          "name": "stdout"
        },
        {
          "output_type": "execute_result",
          "data": {
            "text/plain": [
              "[0.5772632956504822, 0.735945463180542]"
            ]
          },
          "metadata": {
            "tags": []
          },
          "execution_count": 16
        }
      ]
    },
    {
      "cell_type": "code",
      "metadata": {
        "colab": {
          "base_uri": "https://localhost:8080/"
        },
        "id": "s0e-bEAwCIEO",
        "outputId": "87650951-d74e-4cb9-a601-ecac1e66f1e7"
      },
      "source": [
        "_, train_acc = model.evaluate(x_train, y_train, verbose=1)\r\n",
        "_, test_acc = model.evaluate(x_test, y_test, verbose=1)"
      ],
      "execution_count": 17,
      "outputs": [
        {
          "output_type": "stream",
          "text": [
            "166/166 [==============================] - 0s 2ms/step - loss: 0.5790 - accuracy: 0.7342\n",
            "56/56 [==============================] - 0s 2ms/step - loss: 0.5773 - accuracy: 0.7359\n"
          ],
          "name": "stdout"
        }
      ]
    },
    {
      "cell_type": "code",
      "metadata": {
        "colab": {
          "base_uri": "https://localhost:8080/"
        },
        "id": "6eokOPn8Ct1F",
        "outputId": "685ddb79-c38b-4b91-a0c2-f7b425c6a2b0"
      },
      "source": [
        "print('Train: %.3f, Test: %.3f'% (train_acc, test_acc))"
      ],
      "execution_count": 18,
      "outputs": [
        {
          "output_type": "stream",
          "text": [
            "Train: 0.734, Test: 0.736\n"
          ],
          "name": "stdout"
        }
      ]
    },
    {
      "cell_type": "code",
      "metadata": {
        "colab": {
          "base_uri": "https://localhost:8080/"
        },
        "id": "lghHOJJ1C-0y",
        "outputId": "9bb60d6b-247f-41af-85df-85a9660639b3"
      },
      "source": [
        "# Podemos usar desta forma:\r\n",
        "#y_pred = model.predict(x_test)\r\n",
        "#y_pred = [0 if val < 0.5 else 1 for val in y_pred]\r\n",
        "\r\n",
        "\r\n",
        "\r\n",
        "# ou o que está aqui embaixo\r\n",
        "y_pred = model.predict(x_test).reshape(-1)\r\n",
        "print(y_pred[:10])\r\n",
        "\r\n",
        "# round the values to nearest integer ie 0 or 1\r\n",
        "y_pred = np.round(y_pred)\r\n",
        "print(y_pred[:10])"
      ],
      "execution_count": 19,
      "outputs": [
        {
          "output_type": "stream",
          "text": [
            "[0.26582253 0.26582253 0.26582253 0.26582253 0.26582253 0.26582253\n",
            " 0.26582253 0.26582253 0.26582253 0.26582253]\n",
            "[0. 0. 0. 0. 0. 0. 0. 0. 0. 0.]\n"
          ],
          "name": "stdout"
        }
      ]
    },
    {
      "cell_type": "code",
      "metadata": {
        "colab": {
          "base_uri": "https://localhost:8080/"
        },
        "id": "z-ous0WzE7Vy",
        "outputId": "818612da-c2b4-4103-d054-5019c4c15198"
      },
      "source": [
        "# Comparamos com nossos Dados\r\n",
        "y_test[:10]"
      ],
      "execution_count": 20,
      "outputs": [
        {
          "output_type": "execute_result",
          "data": {
            "text/plain": [
              "6626    1\n",
              "3676    0\n",
              "6670    0\n",
              "5631    1\n",
              "3481    0\n",
              "2305    0\n",
              "929     0\n",
              "3148    0\n",
              "3757    1\n",
              "3840    0\n",
              "Name: Churn, dtype: int64"
            ]
          },
          "metadata": {
            "tags": []
          },
          "execution_count": 20
        }
      ]
    },
    {
      "cell_type": "code",
      "metadata": {
        "colab": {
          "base_uri": "https://localhost:8080/"
        },
        "id": "MbPBE_fpEefA",
        "outputId": "86eaf53a-73aa-4ec2-8973-13aaedf194c6"
      },
      "source": [
        "accuracy_score(y_test, y_pred)"
      ],
      "execution_count": 21,
      "outputs": [
        {
          "output_type": "execute_result",
          "data": {
            "text/plain": [
              "0.7359454855195912"
            ]
          },
          "metadata": {
            "tags": []
          },
          "execution_count": 21
        }
      ]
    },
    {
      "cell_type": "code",
      "metadata": {
        "colab": {
          "base_uri": "https://localhost:8080/"
        },
        "id": "2EoZTjdVEgyE",
        "outputId": "9e031417-4e94-48fb-c4bb-605f8afc5aec"
      },
      "source": [
        "print(\"A nossa matriz de confusão é: \")\r\n",
        "print(confusion_matrix(y_test, y_pred))"
      ],
      "execution_count": 22,
      "outputs": [
        {
          "output_type": "stream",
          "text": [
            "A nossa matriz de confusão é: \n",
            "[[1296    0]\n",
            " [ 465    0]]\n"
          ],
          "name": "stdout"
        }
      ]
    },
    {
      "cell_type": "code",
      "metadata": {
        "colab": {
          "base_uri": "https://localhost:8080/"
        },
        "id": "ImI_Uo35Fz_p",
        "outputId": "72b84cc2-fd38-4fb3-8608-fcc4666c85f7"
      },
      "source": [
        "print(\"Nosso relatório de classificação é: \")\r\n",
        "print(classification_report(y_test, y_pred))\r\n"
      ],
      "execution_count": 23,
      "outputs": [
        {
          "output_type": "stream",
          "text": [
            "Nosso relatório de classificação é: \n",
            "              precision    recall  f1-score   support\n",
            "\n",
            "           0       0.74      1.00      0.85      1296\n",
            "           1       0.00      0.00      0.00       465\n",
            "\n",
            "    accuracy                           0.74      1761\n",
            "   macro avg       0.37      0.50      0.42      1761\n",
            "weighted avg       0.54      0.74      0.62      1761\n",
            "\n"
          ],
          "name": "stdout"
        },
        {
          "output_type": "stream",
          "text": [
            "/usr/local/lib/python3.6/dist-packages/sklearn/metrics/_classification.py:1272: UndefinedMetricWarning: Precision and F-score are ill-defined and being set to 0.0 in labels with no predicted samples. Use `zero_division` parameter to control this behavior.\n",
            "  _warn_prf(average, modifier, msg_start, len(result))\n"
          ],
          "name": "stderr"
        }
      ]
    },
    {
      "cell_type": "code",
      "metadata": {
        "colab": {
          "base_uri": "https://localhost:8080/",
          "height": 281
        },
        "id": "Lad7RoSWIDPK",
        "outputId": "327e932b-f7cc-4b6b-8cbf-8a534425a2f7"
      },
      "source": [
        "# plot loss learning curves\r\n",
        "\r\n",
        "plt.title('Cross-Entropy Loss')\r\n",
        "plt.plot(history.history['loss'], label='train')\r\n",
        "plt.plot(history.history['val_loss'], label='test')\r\n",
        "plt.legend()\r\n",
        "plt.show()"
      ],
      "execution_count": 24,
      "outputs": [
        {
          "output_type": "display_data",
          "data": {
            "image/png": "[encoded data removed]",
            "text/plain": [
              "<Figure size 432x288 with 1 Axes>"
            ]
          },
          "metadata": {
            "tags": [],
            "needs_background": "light"
          }
        }
      ]
    },
    {
      "cell_type": "code",
      "metadata": {
        "colab": {
          "base_uri": "https://localhost:8080/",
          "height": 281
        },
        "id": "Fslbpgy7I0iI",
        "outputId": "ffbabc55-cc4c-4592-f04a-c9446b662749"
      },
      "source": [
        "# plot accuracy learning curves\r\n",
        "\r\n",
        "plt.title('Accuracy')\r\n",
        "plt.plot(history.history['accuracy'], label='train')\r\n",
        "plt.plot(history.history['val_accuracy'], label='test')\r\n",
        "plt.legend()\r\n",
        "plt.show()\r\n"
      ],
      "execution_count": 25,
      "outputs": [
        {
          "output_type": "display_data",
          "data": {
            "image/png": "[encoded data removed]",
            "text/plain": [
              "<Figure size 432x288 with 1 Axes>"
            ]
          },
          "metadata": {
            "tags": [],
            "needs_background": "light"
          }
        }
      ]
    },
    {
      "cell_type": "markdown",
      "metadata": {
        "id": "3mm8knWA_M91"
      },
      "source": [
        "**NOTA:**\r\n",
        "É recomendável seguir treinando o modelo para obter um valor menor da ``Loss`` e um valor mais alto da ``accuracy``.\r\n"
      ]
    },
    {
      "cell_type": "code",
      "metadata": {
        "id": "rgVPwgdy_g2Z"
      },
      "source": [
        ""
      ],
      "execution_count": null,
      "outputs": []
    }
  ]
}